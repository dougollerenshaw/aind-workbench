{
 "cells": [
  {
   "cell_type": "code",
   "execution_count": 1,
   "id": "9c24a0e7",
   "metadata": {},
   "outputs": [],
   "source": [
    "import figrid as fg"
   ]
  },
  {
   "cell_type": "code",
   "execution_count": 2,
   "id": "8ae376e8",
   "metadata": {},
   "outputs": [
    {
     "data": {
      "text/plain": [
       "['__builtins__',\n",
       " '__cached__',\n",
       " '__doc__',\n",
       " '__file__',\n",
       " '__loader__',\n",
       " '__name__',\n",
       " '__package__',\n",
       " '__path__',\n",
       " '__spec__',\n",
       " '__version__',\n",
       " 'add_label',\n",
       " 'add_labels',\n",
       " 'gridspec',\n",
       " 'np',\n",
       " 'place_axes_on_grid',\n",
       " 'plt',\n",
       " 'scalebar']"
      ]
     },
     "execution_count": 2,
     "metadata": {},
     "output_type": "execute_result"
    }
   ],
   "source": [
    "dir(fg)"
   ]
  },
  {
   "cell_type": "code",
   "execution_count": null,
   "id": "73c84474",
   "metadata": {},
   "outputs": [],
   "source": []
  }
 ],
 "metadata": {
  "kernelspec": {
   "display_name": "aind-workbench",
   "language": "python",
   "name": "python3"
  },
  "language_info": {
   "codemirror_mode": {
    "name": "ipython",
    "version": 3
   },
   "file_extension": ".py",
   "mimetype": "text/x-python",
   "name": "python",
   "nbconvert_exporter": "python",
   "pygments_lexer": "ipython3",
   "version": "3.13.2"
  }
 },
 "nbformat": 4,
 "nbformat_minor": 5
}
