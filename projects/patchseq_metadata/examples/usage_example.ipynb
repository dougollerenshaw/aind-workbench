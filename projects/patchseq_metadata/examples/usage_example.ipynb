{
 "cells": [
  {
   "cell_type": "markdown",
   "id": "4c1d132c",
   "metadata": {},
   "source": [
    "# PatchSeq Procedures - Usage Examples\n",
    "\n",
    "This notebook demonstrates how to use the refactored patchseq procedures package for creating procedures.json files. The package has been modularized into clean, reusable components while maintaining identical functionality to the original CLI script.\n",
    "\n",
    "## Package Structure\n",
    "\n",
    "The refactored package includes:\n",
    "- `excel_loader.py` - Excel file loading and specimen procedures\n",
    "- `metadata_service.py` - AIND metadata service interactions  \n",
    "- `schema_conversion.py` - V1 to V2 schema conversion\n",
    "- `file_io.py` - Read/write procedures.json files\n",
    "- `csv_tracking.py` - CSV export and tracking\n",
    "- `subject_utils.py` - Subject ID utilities\n",
    "- `create_procedures.py` - CLI script (unchanged interface)"
   ]
  },
  {
   "cell_type": "markdown",
   "id": "fb126615",
   "metadata": {},
   "source": [
    "## Import Required Libraries\n",
    "\n",
    "First, let's import the required libraries and the modular functions from our refactored package."
   ]
  },
  {
   "cell_type": "code",
   "execution_count": null,
   "id": "b46a4a25",
   "metadata": {},
   "outputs": [],
   "source": [
    "# Standard library imports\n",
    "import pandas as pd\n",
    "from pathlib import Path\n",
    "\n",
    "# Import from our refactored modules\n",
    "# High-level convenience functions\n",
    "from schema_conversion import create_procedures_for_subject, create_procedures_for_subjects\n",
    "\n",
    "# Individual module functions for advanced usage\n",
    "from excel_loader import load_specimen_procedures_excel, get_specimen_procedures_for_subject\n",
    "from metadata_service import fetch_procedures_metadata\n",
    "from schema_conversion import convert_procedures_to_v2\n",
    "from file_io import save_procedures_json, check_existing_procedures\n",
    "from csv_tracking import extract_injection_details, update_injection_tracking_csv\n",
    "from subject_utils import get_subjects_list\n",
    "\n",
    "print(\"✓ All modules imported successfully!\")\n",
    "print(\"✓ Package structure is working correctly!\")"
   ]
  },
  {
   "cell_type": "markdown",
   "id": "957fba13",
   "metadata": {},
   "source": [
    "## Load and Inspect Current Data\n",
    "\n",
    "Let's start by examining the subject IDs and Excel data that we'll be working with."
   ]
  },
  {
   "cell_type": "code",
   "execution_count": null,
   "id": "716a3cd0",
   "metadata": {},
   "outputs": [],
   "source": [
    "# Load subject IDs from CSV\n",
    "subjects = get_subjects_list()\n",
    "print(f\"Found {len(subjects)} subjects\")\n",
    "print(f\"First 5 subjects: {subjects[:5]}\")\n",
    "\n",
    "# Load Excel specimen procedures data\n",
    "excel_data = load_specimen_procedures_excel()\n",
    "if excel_data:\n",
    "    print(f\"\\nLoaded Excel data with {len(excel_data)} sheets:\")\n",
    "    for sheet_name, df in excel_data.items():\n",
    "        print(f\"  - {sheet_name}: {df.shape} (rows, columns)\")\n",
    "else:\n",
    "    print(\"\\nNo Excel data loaded\")"
   ]
  },
  {
   "cell_type": "markdown",
   "id": "d0f6f0cd",
   "metadata": {},
   "source": [
    "## Example 1: Process a Single Subject\n",
    "\n",
    "The simplest way to use the package is with the high-level convenience function for single subjects."
   ]
  },
  {
   "cell_type": "code",
   "execution_count": null,
   "id": "ea2fe492",
   "metadata": {},
   "outputs": [],
   "source": [
    "# Process a single subject with the high-level API\n",
    "subject_id = \"692912\"  # First subject from our list\n",
    "\n",
    "print(f\"Processing subject {subject_id}...\")\n",
    "result = create_procedures_for_subject(\n",
    "    subject_id=subject_id,\n",
    "    excel_file=\"DT_HM_TissueClearingTracking_.xlsx\",\n",
    "    metadata_source=\"service\",\n",
    "    output_dir=\"procedures\"\n",
    ")\n",
    "\n",
    "print(f\"\\nResult: {result}\")\n",
    "if result[\"success\"]:\n",
    "    print(\"✓ Successfully created procedures.json file\")\n",
    "    if result.get(\"missing_coordinates\"):\n",
    "        print(f\"⚠️  Some injection coordinates were missing\")\n",
    "else:\n",
    "    print(f\"✗ Failed: {result.get('errors', [])}\")"
   ]
  },
  {
   "cell_type": "markdown",
   "id": "22be4ee3",
   "metadata": {},
   "source": [
    "## Example 2: Batch Process Multiple Subjects\n",
    "\n",
    "For processing multiple subjects efficiently, use the batch processing function that loads Excel data once and reuses it."
   ]
  },
  {
   "cell_type": "code",
   "execution_count": null,
   "id": "23f1cb63",
   "metadata": {},
   "outputs": [],
   "source": [
    "# Process first 3 subjects for demonstration\n",
    "test_subjects = subjects[:3]\n",
    "print(f\"Batch processing {len(test_subjects)} subjects: {test_subjects}\")\n",
    "\n",
    "results = create_procedures_for_subjects(\n",
    "    subject_ids=test_subjects,\n",
    "    excel_file=\"DT_HM_TissueClearingTracking_.xlsx\",\n",
    "    output_dir=\"procedures\"\n",
    ")\n",
    "\n",
    "# Analyze results\n",
    "successful = [r for r in results if r[\"success\"]]\n",
    "failed = [r for r in results if not r[\"success\"]]\n",
    "\n",
    "print(f\"\\n📊 Batch Processing Results:\")\n",
    "print(f\"✓ Successful: {len(successful)}\")\n",
    "print(f\"✗ Failed: {len(failed)}\")\n",
    "\n",
    "if failed:\n",
    "    print(f\"\\nFailed subjects:\")\n",
    "    for result in failed:\n",
    "        print(f\"  - {result['subject_id']}: {result.get('errors', [])}\")"
   ]
  },
  {
   "cell_type": "markdown",
   "id": "bc8e0ea8",
   "metadata": {},
   "source": [
    "## Example 3: Advanced Usage - Individual Modules\n",
    "\n",
    "For more control, you can use the individual modules directly. This is useful when you need custom processing or want to integrate with existing workflows."
   ]
  },
  {
   "cell_type": "code",
   "execution_count": null,
   "id": "48b6cb46",
   "metadata": {},
   "outputs": [],
   "source": [
    "# Step-by-step processing using individual modules\n",
    "subject_id = \"716946\"  # Another test subject\n",
    "\n",
    "print(f\"🔍 Processing {subject_id} step-by-step...\\n\")\n",
    "\n",
    "# Step 1: Check existing files\n",
    "print(\"1. Checking existing files...\")\n",
    "v1_exists, v2_exists, v1_data, v2_data = check_existing_procedures(subject_id)\n",
    "print(f\"   V1 exists: {v1_exists}, V2 exists: {v2_exists}\")\n",
    "\n",
    "# Step 2: Fetch metadata if needed\n",
    "if not v1_exists:\n",
    "    print(\"2. Fetching metadata from service...\")\n",
    "    success, v1_data, message = fetch_procedures_metadata(subject_id)\n",
    "    if success:\n",
    "        print(f\"   ✓ Fetched metadata: {message}\")\n",
    "        save_procedures_json(subject_id, v1_data, is_v1=True)\n",
    "    else:\n",
    "        print(f\"   ✗ Failed: {message}\")\n",
    "else:\n",
    "    print(\"2. Using existing V1 data\")\n",
    "\n",
    "# Step 3: Get specimen procedures from Excel\n",
    "if excel_data:\n",
    "    print(\"3. Getting specimen procedures from Excel...\")\n",
    "    specimen_procs, batch_info = get_specimen_procedures_for_subject(subject_id, excel_data)\n",
    "    print(f\"   Found {len(specimen_procs)} specimen procedures\")\n",
    "    if batch_info:\n",
    "        print(f\"   Batch: {batch_info['batch_number']}, Sheet: {batch_info['date_range_tab']}\")\n",
    "\n",
    "# Step 4: Convert to V2 schema\n",
    "if v1_data:\n",
    "    print(\"4. Converting to V2 schema...\")\n",
    "    v2_data, coord_info, batch_info = convert_procedures_to_v2(v1_data, excel_data)\n",
    "    if v2_data:\n",
    "        print(\"   ✓ Conversion successful\")\n",
    "        if coord_info['has_missing_injection_coords']:\n",
    "            print(f\"   ⚠️  Missing coordinates: {len(coord_info['missing_injection_details'])} issues\")\n",
    "        \n",
    "        # Step 5: Save V2 data\n",
    "        save_procedures_json(subject_id, v2_data, is_v1=False)\n",
    "        print(\"   ✓ Saved V2 procedures.json\")\n",
    "    else:\n",
    "        print(\"   ✗ Conversion failed\")"
   ]
  },
  {
   "cell_type": "markdown",
   "id": "61886852",
   "metadata": {},
   "source": [
    "## Example 4: Custom Subject Lists and Data Sources\n",
    "\n",
    "You can easily work with custom subject lists or different Excel files."
   ]
  },
  {
   "cell_type": "code",
   "execution_count": null,
   "id": "fa16949d",
   "metadata": {},
   "outputs": [],
   "source": [
    "# Example: Process specific subjects from your research\n",
    "my_subjects = [\"725231\", \"725328\", \"728854\"]\n",
    "print(f\"Processing custom subject list: {my_subjects}\")\n",
    "\n",
    "# You could also filter subjects based on criteria\n",
    "# For example, subjects from a specific batch or date range\n",
    "print(f\"\\nFiltering subjects with IDs starting with '725'...\")\n",
    "filtered_subjects = [s for s in subjects if s.startswith(\"725\")]\n",
    "print(f\"Found {len(filtered_subjects)} subjects: {filtered_subjects}\")\n",
    "\n",
    "# Process the filtered subjects\n",
    "results = create_procedures_for_subjects(\n",
    "    subject_ids=filtered_subjects[:2],  # Just process first 2 for demo\n",
    "    excel_file=\"DT_HM_TissueClearingTracking_.xlsx\",\n",
    "    output_dir=\"procedures\"\n",
    ")\n",
    "\n",
    "print(f\"\\n📊 Custom Processing Results:\")\n",
    "for result in results:\n",
    "    status = \"✓\" if result[\"success\"] else \"✗\"\n",
    "    print(f\"  {status} {result['subject_id']}\")\n",
    "\n",
    "# Example: Working without Excel file (metadata service only)\n",
    "print(f\"\\n🚫 Processing without Excel specimen procedures...\")\n",
    "no_excel_result = create_procedures_for_subject(\n",
    "    subject_id=\"692912\",\n",
    "    excel_file=None,  # No Excel file\n",
    "    metadata_source=\"service\",\n",
    "    output_dir=\"procedures\"\n",
    ")\n",
    "print(f\"Result without Excel: {no_excel_result['success']}\")"
   ]
  },
  {
   "cell_type": "markdown",
   "id": "0c4eb11c",
   "metadata": {},
   "source": [
    "## CLI Compatibility\n",
    "\n",
    "The refactored package maintains complete backward compatibility with the original CLI script. You can still use `python create_procedures.py` exactly as before."
   ]
  },
  {
   "cell_type": "code",
   "execution_count": null,
   "id": "af280c88",
   "metadata": {},
   "outputs": [],
   "source": [
    "# The CLI script works exactly the same as before\n",
    "# You can run these commands in the terminal:\n",
    "\n",
    "print(\"📋 CLI Usage Examples:\")\n",
    "print(\"# Process all subjects:\")\n",
    "print(\"python create_procedures.py\")\n",
    "print(\"\")\n",
    "print(\"# Process first 3 subjects:\")\n",
    "print(\"python create_procedures.py --limit 3\")\n",
    "print(\"\")\n",
    "print(\"# Avoid overwriting existing v2 files:\")\n",
    "print(\"python create_procedures.py --avoid-overwrite\")\n",
    "print(\"\")\n",
    "\n",
    "# Test that our refactored modules work correctly\n",
    "print(\"🧪 Testing refactored functionality...\")\n",
    "\n",
    "# Verify we can load all the data\n",
    "test_subjects = get_subjects_list()\n",
    "test_excel = load_specimen_procedures_excel()\n",
    "\n",
    "print(f\"✓ Loaded {len(test_subjects)} subjects\")\n",
    "print(f\"✓ Loaded Excel data with {len(test_excel)} sheets\")\n",
    "print(\"✓ All refactored modules are working correctly!\")\n",
    "\n",
    "print(\"\\n🎉 Refactoring successful!\")\n",
    "print(\"   - Identical CLI functionality preserved\")\n",
    "print(\"   - Clean modular structure created\") \n",
    "print(\"   - Easy programmatic access added\")\n",
    "print(\"   - Ready for sharing with colleagues!\")"
   ]
  }
 ],
 "metadata": {
  "language_info": {
   "name": "python"
  }
 },
 "nbformat": 4,
 "nbformat_minor": 5
}
