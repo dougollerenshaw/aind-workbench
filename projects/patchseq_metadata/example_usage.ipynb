{
 "cells": [
  {
   "cell_type": "markdown",
   "id": "c6435f90",
   "metadata": {},
   "source": [
    "# Patchseq Procedures: V1 to V2 Conversion with Specimen Procedures\n",
    "\n",
    "This notebook demonstrates the core workflow for processing patchseq metadata:\n",
    "1. Load V1 procedures for a mouse from the metadata service\n",
    "2. Convert V1 to V2 schema format\n",
    "3. Load specimen procedures from Excel file\n",
    "4. Add specimen procedures to the V2 record\n",
    "5. Save the final procedures.json file"
   ]
  },
  {
   "cell_type": "code",
   "execution_count": 16,
   "id": "68d288df",
   "metadata": {},
   "outputs": [
    {
     "name": "stdout",
     "output_type": "stream",
     "text": [
      "Modules imported successfully!\n"
     ]
    }
   ],
   "source": [
    "# Import required modules\n",
    "from metadata_service import fetch_procedures_metadata\n",
    "from schema_conversion import convert_procedures_to_v2\n",
    "from excel_loader import load_specimen_procedures_excel, get_specimen_procedures_for_subject\n",
    "from file_io import save_procedures_json\n",
    "\n",
    "print(\"Modules imported successfully!\")"
   ]
  },
  {
   "cell_type": "code",
   "execution_count": 17,
   "id": "10fca6a4",
   "metadata": {},
   "outputs": [
    {
     "name": "stdout",
     "output_type": "stream",
     "text": [
      "Processing mouse: 699461\n",
      "Excel file: DT_HM_TissueClearingTracking_.xlsx\n"
     ]
    }
   ],
   "source": [
    "# Define the mouse ID to process and Excel file path\n",
    "mouse_id = \"699461\"  # Example mouse from your dataset\n",
    "excel_file = \"DT_HM_TissueClearingTracking_.xlsx\"\n",
    "\n",
    "print(f\"Processing mouse: {mouse_id}\")\n",
    "print(f\"Excel file: {excel_file}\")"
   ]
  },
  {
   "cell_type": "code",
   "execution_count": 18,
   "id": "0efcf8a4",
   "metadata": {},
   "outputs": [
    {
     "name": "stdout",
     "output_type": "stream",
     "text": [
      "  Fetching procedures from: http://aind-metadata-service/procedures/699461\n",
      "    Response status: 406\n",
      "API Success: True, Message: Success (with validation warnings): Validation Errors: 11 validation errors for Procedures\n",
      "subject_procedures.0.Surgery.protocol_id\n",
      "  Field required [type=missing, input_value={'procedure_type': 'Surge...1b/v6'}], 'notes': None}, input_type=dict]\n",
      "    For further information visit https://errors.pydantic.dev/2.11/v/missing\n",
      "subject_procedures.1.Surgery.procedures.0.Headframe.protocol_id\n",
      "  Field required [type=missing, input_value={'procedure_type': 'Headf... 'well_type': 'No Well'}, input_type=dict]\n",
      "    For further information visit https://errors.pydantic.dev/2.11/v/missing\n",
      "subject_procedures.1.Surgery.procedures.0.Headframe.headframe_part_number\n",
      "  Input should be a valid string [type=string_type, input_value=None, input_type=NoneType]\n",
      "    For further information visit https://errors.pydantic.dev/2.11/v/string_type\n",
      "subject_procedures.1.Surgery.procedures.1.Nanoject injection.injection_materials\n",
      "  List should have at least 1 item after validation, not 0 [type=too_short, input_value=[], input_type=list]\n",
      "    For further information visit https://errors.pydantic.dev/2.11/v/too_short\n",
      "subject_procedures.1.Surgery.procedures.2.Fiber implant.protocol_id\n",
      "  Field required [type=missing, input_value={'procedure_type': 'Fiber...rees'>, 'notes': None}]}, input_type=dict]\n",
      "    For further information visit https://errors.pydantic.dev/2.11/v/missing\n",
      "subject_procedures.1.Surgery.procedures.2.Fiber implant.probes.0.targeted_structure\n",
      "  Input should be a valid dictionary or object to extract fields from [type=model_attributes_type, input_value=None, input_type=NoneType]\n",
      "    For further information visit https://errors.pydantic.dev/2.11/v/model_attributes_type\n",
      "subject_procedures.1.Surgery.procedures.3.Nanoject injection.injection_materials\n",
      "  List should have at least 1 item after validation, not 0 [type=too_short, input_value=[], input_type=list]\n",
      "    For further information visit https://errors.pydantic.dev/2.11/v/too_short\n",
      "subject_procedures.1.Surgery.procedures.4.Fiber implant.protocol_id\n",
      "  Field required [type=missing, input_value={'procedure_type': 'Fiber...rees'>, 'notes': None}]}, input_type=dict]\n",
      "    For further information visit https://errors.pydantic.dev/2.11/v/missing\n",
      "subject_procedures.1.Surgery.procedures.4.Fiber implant.probes.0.targeted_structure\n",
      "  Input should be a valid dictionary or object to extract fields from [type=model_attributes_type, input_value=None, input_type=NoneType]\n",
      "    For further information visit https://errors.pydantic.dev/2.11/v/model_attributes_type\n",
      "subject_procedures.1.Surgery.procedures.5.Fiber implant.protocol_id\n",
      "  Field required [type=missing, input_value={'procedure_type': 'Fiber...rees'>, 'notes': None}]}, input_type=dict]\n",
      "    For further information visit https://errors.pydantic.dev/2.11/v/missing\n",
      "subject_procedures.1.Surgery.procedures.5.Fiber implant.probes.0.targeted_structure\n",
      "  Input should be a valid dictionary or object to extract fields from [type=model_attributes_type, input_value=None, input_type=NoneType]\n",
      "    For further information visit https://errors.pydantic.dev/2.11/v/model_attributes_type\n",
      "V1 data keys: ['describedBy', 'schema_version', 'subject_id', 'subject_procedures', 'specimen_procedures', 'notes']\n"
     ]
    }
   ],
   "source": [
    "# Step 1: Load V1 procedures and convert to V2\n",
    "success, v1_data, message = fetch_procedures_metadata(mouse_id)\n",
    "print(f\"API Success: {success}, Message: {message}\")\n",
    "print(f\"V1 data keys: {list(v1_data.keys()) if v1_data else 'None'}\")\n",
    "\n",
    "v2_data = convert_procedures_to_v2(v1_data)[0]\n"
   ]
  },
  {
   "cell_type": "code",
   "execution_count": 24,
   "id": "f930e00c",
   "metadata": {},
   "outputs": [
    {
     "name": "stdout",
     "output_type": "stream",
     "text": [
      "Loading Excel file: DT_HM_TissueClearingTracking_.xlsx\n",
      "Found 14 total sheets\n",
      "\n",
      "--- Loading 'Batch Info' sheet ---\n",
      "✓ Batch Info loaded - Shape: (147, 5)\n",
      "  Columns: ['Batch #', 'LabTrack IDs', 'Notes', 'Total #', 'Column_4']\n",
      "\n",
      "--- Loading 'Dec 2022 - Feb 2023' sheet ---\n",
      "✓ Dec 2022 - Feb 2023 loaded - Shape: (34, 25)\n",
      "  Sample columns: ['SubjInfo_Mouse ID', 'ClearingMethod', 'Experimenter', 'Institute', 'Fixation_SHIELD OFF_Date(s)']...\n",
      "\n",
      "--- Loading 'Mar - May 2023' sheet ---\n",
      "✓ Mar - May 2023 loaded - Shape: (45, 25)\n",
      "  Sample columns: ['SubjInfo_Mouse ID', 'ClearingMethod', 'Experimenter', 'Institute', 'Fixation_SHIELD OFF_Date(s)']...\n",
      "\n",
      "--- Loading 'Jun - Aug 2023' sheet ---\n",
      "✓ Jun - Aug 2023 loaded - Shape: (54, 25)\n",
      "  Sample columns: ['SubjInfo_Mouse ID', 'ClearingMethod', 'Experimenter', 'Institute', 'Fixation_SHIELD OFF_Date(s)']...\n",
      "\n",
      "--- Loading 'Sep - Nov 2023' sheet ---\n",
      "✓ Sep - Nov 2023 loaded - Shape: (32, 25)\n",
      "  Sample columns: ['SubjInfo_Mouse ID', 'ClearingMethod', 'Experimenter', 'Institute', 'Fixation_SHIELD OFF_Date(s)']...\n",
      "\n",
      "--- Loading 'Dec 2023 - Feb 2024' sheet ---\n",
      "✓ Dec 2023 - Feb 2024 loaded - Shape: (17, 25)\n",
      "  Sample columns: ['SubjInfo_Mouse ID', 'ClearingMethod', 'Experimenter', 'Institute', 'Fixation_SHIELD OFF_Date(s)']...\n",
      "\n",
      "--- Loading 'Mar - May 2024' sheet ---\n",
      "✓ Mar - May 2024 loaded - Shape: (39, 25)\n",
      "  Sample columns: ['SubjInfo_Mouse ID', 'ClearingMethod', 'Experimenter', 'Institute', 'Fixation_SHIELD OFF_Date(s)']...\n",
      "\n",
      "--- Loading 'Jun - Aug 2024' sheet ---\n",
      "✓ Jun - Aug 2024 loaded - Shape: (27, 25)\n",
      "  Sample columns: ['SubjInfo_Mouse ID', 'ClearingMethod', 'Experimenter', 'Institute', 'Fixation_SHIELD OFF_Date(s)']...\n",
      "\n",
      "--- Loading 'Sep - Nov 2024' sheet ---\n",
      "✓ Sep - Nov 2024 loaded - Shape: (30, 25)\n",
      "  Sample columns: ['SubjInfo_Mouse ID', 'ClearingMethod', 'Experimenter', 'Institute', 'Fixation_SHIELD OFF_Date(s)']...\n",
      "\n",
      "--- Loading 'Dec 2024 - Feb 2025' sheet ---\n",
      "✓ Dec 2024 - Feb 2025 loaded - Shape: (34, 25)\n",
      "  Sample columns: ['SubjInfo_Mouse ID', 'ClearingMethod', 'Experimenter', 'Institute', 'Fixation_SHIELD OFF_Date(s)']...\n",
      "\n",
      "--- Loading 'Mar - May 2025' sheet ---\n",
      "✓ Mar - May 2025 loaded - Shape: (8, 25)\n",
      "  Sample columns: ['SubjInfo_Mouse ID', 'ClearingMethod', 'Experimenter', 'Institute', 'Fixation_SHIELD OFF_Date(s)']...\n",
      "\n",
      "--- Loading 'Jun - Aug 2025' sheet ---\n",
      "✓ Jun - Aug 2025 loaded - Shape: (12, 25)\n",
      "  Sample columns: ['SubjInfo_Mouse ID', 'ClearingMethod', 'Experimenter', 'Institute', 'Fixation_SHIELD OFF_Date(s)']...\n",
      "\n",
      "--- Loading 'Additional batch info' sheet ---\n",
      "✓ Additional batch info loaded - Shape: (53, 25)\n",
      "  Sample columns: ['SubjInfo_Mouse ID', 'ClearingMethod', 'Experimenter', 'Institute', 'Fixation_SHIELD OFF_Date(s)']...\n",
      "\n",
      "✓ Successfully loaded 13 sheets\n",
      "Added 2 specimen procedures\n"
     ]
    }
   ],
   "source": [
    "# Step 2: Load specimen procedures from Excel and add to V2 data\n",
    "excel_data = load_specimen_procedures_excel(excel_file)\n",
    "specimen_procedures = get_specimen_procedures_for_subject(mouse_id, excel_data)\n",
    "v2_data['specimen_procedures'] = []\n",
    "v2_data['specimen_procedures'].extend(specimen_procedures)\n",
    "\n",
    "print(f\"Added {len(specimen_procedures)} specimen procedures\")\n",
    "# print(f\"Total specimen procedures: {len(v2_data['specimen_procedures'])}\")"
   ]
  },
  {
   "cell_type": "code",
   "execution_count": 25,
   "id": "94bf948d",
   "metadata": {},
   "outputs": [
    {
     "data": {
      "text/plain": [
       "[[SpecimenProcedure(object_type='Specimen procedure', procedure_type='Fixation', procedure_name='SHIELD OFF', specimen_id='699461', start_date=datetime.date(2024, 3, 29), end_date=datetime.date(2024, 4, 1), experimenters=['Holly Myers'], protocol_id=None, protocol_parameters=None, procedure_details=[Reagent(object_type='Reagent', name='SHIELD Buffer', source=_Lifecanvas(name='LifeCanvas', abbreviation=None, registry=None, registry_identifier=None), rrid=None, lot_number='bu19', expiration_date=None), Reagent(object_type='Reagent', name='SHIELD Epoxy', source=_Lifecanvas(name='LifeCanvas', abbreviation=None, registry=None, registry_identifier=None), rrid=None, lot_number='ex43', expiration_date=None)], notes='stored in 1xpbs in 4c 4/2/24 - 4/3/24'),\n",
       "  SpecimenProcedure(object_type='Specimen procedure', procedure_type='Fixation', procedure_name='SHIELD ON', specimen_id='699461', start_date=datetime.date(2024, 4, 1), end_date=datetime.date(2024, 4, 2), experimenters=['Holly Myers'], protocol_id=None, protocol_parameters=None, procedure_details=[Reagent(object_type='Reagent', name='SHIELD On', source=_Lifecanvas(name='LifeCanvas', abbreviation=None, registry=None, registry_identifier=None), rrid=None, lot_number='on21', expiration_date=None)], notes='stored in 1xpbs in 4c 4/2/24 - 4/3/24'),\n",
       "  SpecimenProcedure(object_type='Specimen procedure', procedure_type='Delipidation', procedure_name='Passive Delipidation', specimen_id='699461', start_date=datetime.date(2024, 4, 3), end_date=datetime.date(2024, 4, 5), experimenters=['Holly Myers'], protocol_id=None, protocol_parameters=None, procedure_details=[Reagent(object_type='Reagent', name='Delipidation Buffer', source=_Other(name='Other', abbreviation=None, registry=None, registry_identifier=None), rrid=None, lot_number='d18', expiration_date=None)], notes=None),\n",
       "  SpecimenProcedure(object_type='Specimen procedure', procedure_type='Delipidation', procedure_name='Active Delipidation', specimen_id='699461', start_date=datetime.date(2024, 4, 5), end_date=datetime.date(2024, 4, 7), experimenters=['Holly Myers'], protocol_id=None, protocol_parameters=None, procedure_details=[Reagent(object_type='Reagent', name='Conductivity Buffer', source=_Other(name='Other', abbreviation=None, registry=None, registry_identifier=None), rrid=None, lot_number='c11', expiration_date=None)], notes=None),\n",
       "  SpecimenProcedure(object_type='Specimen procedure', procedure_type='Refractive index matching', procedure_name='EasyIndex', specimen_id='699461', start_date=datetime.date(2024, 4, 8), end_date=datetime.date(2024, 4, 11), experimenters=['Holly Myers'], protocol_id=['dx.doi.org/10.17504/protocols.io.kxygx965kg8j/v1'], protocol_parameters=None, procedure_details=[Reagent(object_type='Reagent', name='Easy Index', source=_Lifecanvas(name='LifeCanvas', abbreviation=None, registry=None, registry_identifier=None), rrid=None, lot_number='EI53', expiration_date=None)], notes=None)],\n",
       " {'batch_number': '62', 'date_range_tab': 'Additional batch info'}]"
      ]
     },
     "execution_count": 25,
     "metadata": {},
     "output_type": "execute_result"
    }
   ],
   "source": [
    "v2_data['specimen_procedures']"
   ]
  },
  {
   "cell_type": "code",
   "execution_count": 27,
   "id": "618ac788",
   "metadata": {},
   "outputs": [
    {
     "name": "stdout",
     "output_type": "stream",
     "text": [
      "    Saved procedures.json to: procedures/699461/procedures.json\n",
      "Saved procedures.json for mouse 699461\n",
      "Final: 3 procedures, 2 specimen procedures\n"
     ]
    }
   ],
   "source": [
    "# Step 3: Save the final procedures.json file\n",
    "save_procedures_json(mouse_id, v2_data, is_v1=False)\n",
    "\n",
    "print(f\"Saved procedures.json for mouse {mouse_id}\")\n",
    "print(f\"Final: {len(v2_data)} procedures, {len(v2_data['specimen_procedures'])} specimen procedures\")"
   ]
  },
  {
   "cell_type": "code",
   "execution_count": null,
   "id": "799b2cbe",
   "metadata": {},
   "outputs": [],
   "source": []
  }
 ],
 "metadata": {
  "kernelspec": {
   "display_name": "patchseq_metadata",
   "language": "python",
   "name": "python3"
  },
  "language_info": {
   "codemirror_mode": {
    "name": "ipython",
    "version": 3
   },
   "file_extension": ".py",
   "mimetype": "text/x-python",
   "name": "python",
   "nbconvert_exporter": "python",
   "pygments_lexer": "ipython3",
   "version": "3.12.11"
  }
 },
 "nbformat": 4,
 "nbformat_minor": 5
}
