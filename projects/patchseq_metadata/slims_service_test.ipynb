{
 "cells": [
  {
   "cell_type": "code",
   "execution_count": 9,
   "id": "5e203f14",
   "metadata": {},
   "outputs": [
    {
     "ename": "UndefinedValueError",
     "evalue": "SLIMS_REST_URL not found. Declare it as envvar or define a default value.",
     "output_type": "error",
     "traceback": [
      "\u001b[31m---------------------------------------------------------------------------\u001b[39m",
      "\u001b[31mUndefinedValueError\u001b[39m                       Traceback (most recent call last)",
      "\u001b[36mCell\u001b[39m\u001b[36m \u001b[39m\u001b[32mIn[9]\u001b[39m\u001b[32m, line 15\u001b[39m\n\u001b[32m      6\u001b[39m \u001b[38;5;28;01mfrom\u001b[39;00m\u001b[38;5;250m \u001b[39m\u001b[34;01maind_slims_service_server\u001b[39;00m\u001b[34;01m.\u001b[39;00m\u001b[34;01mhandlers\u001b[39;00m\u001b[34;01m.\u001b[39;00m\u001b[34;01mhistology\u001b[39;00m\u001b[38;5;250m \u001b[39m\u001b[38;5;28;01mimport\u001b[39;00m (\n\u001b[32m      7\u001b[39m     HistologySessionHandler,\n\u001b[32m      8\u001b[39m )\n\u001b[32m     10\u001b[39m \u001b[38;5;66;03m# Create SLIMS connection directly from config\u001b[39;00m\n\u001b[32m     11\u001b[39m slims = Slims(\n\u001b[32m     12\u001b[39m     name=\u001b[33m\"\u001b[39m\u001b[33mprod\u001b[39m\u001b[33m\"\u001b[39m,\n\u001b[32m     13\u001b[39m     username=config(\u001b[33m'\u001b[39m\u001b[33mSLIMS_USERNAME\u001b[39m\u001b[33m'\u001b[39m),\n\u001b[32m     14\u001b[39m     password=config(\u001b[33m'\u001b[39m\u001b[33mSLIMS_PASSWORD\u001b[39m\u001b[33m'\u001b[39m),\n\u001b[32m---> \u001b[39m\u001b[32m15\u001b[39m     url=\u001b[43mconfig\u001b[49m\u001b[43m(\u001b[49m\u001b[33;43m'\u001b[39;49m\u001b[33;43mSLIMS_REST_URL\u001b[39;49m\u001b[33;43m'\u001b[39;49m\u001b[43m)\u001b[49m,\n\u001b[32m     16\u001b[39m )\n\u001b[32m     18\u001b[39m \u001b[38;5;66;03m# Test connection first\u001b[39;00m\n\u001b[32m     19\u001b[39m \u001b[38;5;28mprint\u001b[39m(\u001b[33m\"\u001b[39m\u001b[33mTesting SLIMS connection...\u001b[39m\u001b[33m\"\u001b[39m)\n",
      "\u001b[36mFile \u001b[39m\u001b[32m/opt/homebrew/Caskroom/miniconda/base/envs/patchseq_metadata/lib/python3.12/site-packages/decouple.py:248\u001b[39m, in \u001b[36mAutoConfig.__call__\u001b[39m\u001b[34m(self, *args, **kwargs)\u001b[39m\n\u001b[32m    245\u001b[39m \u001b[38;5;28;01mif\u001b[39;00m \u001b[38;5;129;01mnot\u001b[39;00m \u001b[38;5;28mself\u001b[39m.config:\n\u001b[32m    246\u001b[39m     \u001b[38;5;28mself\u001b[39m._load(\u001b[38;5;28mself\u001b[39m.search_path \u001b[38;5;129;01mor\u001b[39;00m \u001b[38;5;28mself\u001b[39m._caller_path())\n\u001b[32m--> \u001b[39m\u001b[32m248\u001b[39m \u001b[38;5;28;01mreturn\u001b[39;00m \u001b[38;5;28;43mself\u001b[39;49m\u001b[43m.\u001b[49m\u001b[43mconfig\u001b[49m\u001b[43m(\u001b[49m\u001b[43m*\u001b[49m\u001b[43margs\u001b[49m\u001b[43m,\u001b[49m\u001b[43m \u001b[49m\u001b[43m*\u001b[49m\u001b[43m*\u001b[49m\u001b[43mkwargs\u001b[49m\u001b[43m)\u001b[49m\n",
      "\u001b[36mFile \u001b[39m\u001b[32m/opt/homebrew/Caskroom/miniconda/base/envs/patchseq_metadata/lib/python3.12/site-packages/decouple.py:107\u001b[39m, in \u001b[36mConfig.__call__\u001b[39m\u001b[34m(self, *args, **kwargs)\u001b[39m\n\u001b[32m    103\u001b[39m \u001b[38;5;28;01mdef\u001b[39;00m\u001b[38;5;250m \u001b[39m\u001b[34m__call__\u001b[39m(\u001b[38;5;28mself\u001b[39m, *args, **kwargs):\n\u001b[32m    104\u001b[39m \u001b[38;5;250m    \u001b[39m\u001b[33;03m\"\"\"\u001b[39;00m\n\u001b[32m    105\u001b[39m \u001b[33;03m    Convenient shortcut to get.\u001b[39;00m\n\u001b[32m    106\u001b[39m \u001b[33;03m    \"\"\"\u001b[39;00m\n\u001b[32m--> \u001b[39m\u001b[32m107\u001b[39m     \u001b[38;5;28;01mreturn\u001b[39;00m \u001b[38;5;28;43mself\u001b[39;49m\u001b[43m.\u001b[49m\u001b[43mget\u001b[49m\u001b[43m(\u001b[49m\u001b[43m*\u001b[49m\u001b[43margs\u001b[49m\u001b[43m,\u001b[49m\u001b[43m \u001b[49m\u001b[43m*\u001b[49m\u001b[43m*\u001b[49m\u001b[43mkwargs\u001b[49m\u001b[43m)\u001b[49m\n",
      "\u001b[36mFile \u001b[39m\u001b[32m/opt/homebrew/Caskroom/miniconda/base/envs/patchseq_metadata/lib/python3.12/site-packages/decouple.py:92\u001b[39m, in \u001b[36mConfig.get\u001b[39m\u001b[34m(self, option, default, cast)\u001b[39m\n\u001b[32m     90\u001b[39m \u001b[38;5;28;01melse\u001b[39;00m:\n\u001b[32m     91\u001b[39m     \u001b[38;5;28;01mif\u001b[39;00m \u001b[38;5;28misinstance\u001b[39m(default, Undefined):\n\u001b[32m---> \u001b[39m\u001b[32m92\u001b[39m         \u001b[38;5;28;01mraise\u001b[39;00m UndefinedValueError(\u001b[33m'\u001b[39m\u001b[38;5;132;01m{}\u001b[39;00m\u001b[33m not found. Declare it as envvar or define a default value.\u001b[39m\u001b[33m'\u001b[39m.format(option))\n\u001b[32m     94\u001b[39m     value = default\n\u001b[32m     96\u001b[39m \u001b[38;5;28;01mif\u001b[39;00m \u001b[38;5;28misinstance\u001b[39m(cast, Undefined):\n",
      "\u001b[31mUndefinedValueError\u001b[39m: SLIMS_REST_URL not found. Declare it as envvar or define a default value."
     ]
    }
   ],
   "source": [
    "import pickle\n",
    "from pathlib import Path\n",
    "from decouple import config\n",
    "\n",
    "from slims.slims import Slims\n",
    "from aind_slims_service_server.handlers.histology import (\n",
    "    HistologySessionHandler,\n",
    ")\n",
    "\n",
    "# Create SLIMS connection directly from config\n",
    "slims = Slims(\n",
    "    name=\"prod\",\n",
    "    username=config('SLIMS_USERNAME'),\n",
    "    password=config('SLIMS_PASSWORD'),\n",
    "    url=config('SLIMS_REST_URL'),\n",
    ")\n",
    "\n",
    "# Test connection first\n",
    "print(\"Testing SLIMS connection...\")\n",
    "try:\n",
    "    test_result = slims.fetch(\"User\")\n",
    "    print(f\"Success! Found {len(test_result)} users\")\n",
    "except Exception as e:\n",
    "    print(f\"Connection test failed: {e}\")"
   ]
  },
  {
   "cell_type": "code",
   "execution_count": null,
   "id": "b3c4b3a8",
   "metadata": {},
   "outputs": [],
   "source": [
    "handler = HistologySessionHandler(slims)\n",
    "\n",
    "foo = handler._get_graph()\n",
    "\n",
    "with open(\"graph.pkl\", \"wb\") as f:\n",
    "    pickle.dump(foo, f)"
   ]
  },
  {
   "cell_type": "code",
   "execution_count": null,
   "id": "f5819187",
   "metadata": {},
   "outputs": [
    {
     "name": "stdout",
     "output_type": "stream",
     "text": [
      "❌ Cannot access Users: name 'empty' is not defined\n",
      "❌ Cannot access Content: name 'empty' is not defined\n",
      "❌ Cannot access ExperimentTemplate: name 'empty' is not defined\n",
      "❌ Cannot access mouse 781471: Could not fetch entities: <!doctype html><html lang=\"en\"><head><title>HTTP Status 403 – Forbidden</title><style type=\"text/css\">body {font-family:Tahoma,Arial,sans-serif;} h1, h2, h3, b {color:white;background-color:#525D76;} h1 {font-size:22px;} h2 {font-size:16px;} h3 {font-size:14px;} p {font-size:12px;} a {color:black;} .line {height:1px;background-color:#525D76;border:none;}</style></head><body><h1>HTTP Status 403 – Forbidden</h1></body></html>\n"
     ]
    }
   ],
   "source": []
  },
  {
   "cell_type": "code",
   "execution_count": 5,
   "id": "0e542c79",
   "metadata": {},
   "outputs": [
    {
     "name": "stdout",
     "output_type": "stream",
     "text": [
      "❌ Cannot access Users: Could not fetch entities: <!doctype html><html lang=\"en\"><head><title>HTTP Status 403 – Forbidden</title><style type=\"text/css\">body {font-family:Tahoma,Arial,sans-serif;} h1, h2, h3, b {color:white;background-color:#525D76;} h1 {font-size:22px;} h2 {font-size:16px;} h3 {font-size:14px;} p {font-size:12px;} a {color:black;} .line {height:1px;background-color:#525D76;border:none;}</style></head><body><h1>HTTP Status 403 – Forbidden</h1></body></html>\n",
      "❌ Cannot access Content: Slims.fetch() missing 1 required positional argument: 'criteria'\n",
      "❌ Cannot access Content (Sample type): Could not fetch entities: <!doctype html><html lang=\"en\"><head><title>HTTP Status 403 – Forbidden</title><style type=\"text/css\">body {font-family:Tahoma,Arial,sans-serif;} h1, h2, h3, b {color:white;background-color:#525D76;} h1 {font-size:22px;} h2 {font-size:16px;} h3 {font-size:14px;} p {font-size:12px;} a {color:black;} .line {height:1px;background-color:#525D76;border:none;}</style></head><body><h1>HTTP Status 403 – Forbidden</h1></body></html>\n",
      "❌ Cannot access mouse 781471 by cntn_id: Could not fetch entities: <!doctype html><html lang=\"en\"><head><title>HTTP Status 403 – Forbidden</title><style type=\"text/css\">body {font-family:Tahoma,Arial,sans-serif;} h1, h2, h3, b {color:white;background-color:#525D76;} h1 {font-size:22px;} h2 {font-size:16px;} h3 {font-size:14px;} p {font-size:12px;} a {color:black;} .line {height:1px;background-color:#525D76;border:none;}</style></head><body><h1>HTTP Status 403 – Forbidden</h1></body></html>\n",
      "❌ Cannot access mouse 781471 by barcode: Could not fetch entities: <!doctype html><html lang=\"en\"><head><title>HTTP Status 403 – Forbidden</title><style type=\"text/css\">body {font-family:Tahoma,Arial,sans-serif;} h1, h2, h3, b {color:white;background-color:#525D76;} h1 {font-size:22px;} h2 {font-size:16px;} h3 {font-size:14px;} p {font-size:12px;} a {color:black;} .line {height:1px;background-color:#525D76;border:none;}</style></head><body><h1>HTTP Status 403 – Forbidden</h1></body></html>\n"
     ]
    }
   ],
   "source": [
    "from slims.criteria import equals, is_one_of\n",
    "from slims.slims import Slims\n",
    "\n",
    "# Test what tables you can access with proper criteria\n",
    "try:\n",
    "    # Try to get users with a more specific query\n",
    "    users = slims.fetch(\"User\", equals(\"user_userName\", os.getenv('SLIMS_USERNAME')))\n",
    "    print(f\"✅ Can access Users: {len(users)} records\")\n",
    "except Exception as e:\n",
    "    print(f\"❌ Cannot access Users: {e}\")\n",
    "\n",
    "try:\n",
    "    # Try to get content without criteria (some SLIMS versions allow this)\n",
    "    content = slims.fetch(\"Content\") \n",
    "    print(f\"✅ Can access Content: {len(content)} records\")\n",
    "except Exception as e:\n",
    "    print(f\"❌ Cannot access Content: {e}\")\n",
    "\n",
    "try:\n",
    "    # Try a more basic content query\n",
    "    content = slims.fetch(\"Content\", equals(\"cntn_cf_contentType\", \"Sample\"))\n",
    "    print(f\"✅ Can access Content (Sample type): {len(content)} records\")\n",
    "except Exception as e:\n",
    "    print(f\"❌ Cannot access Content (Sample type): {e}\")\n",
    "\n",
    "try:\n",
    "    # Test accessing Content with your mouse ID using different field names\n",
    "    mouse_content = slims.fetch(\"Content\", equals(\"cntn_id\", \"781471\"))\n",
    "    print(f\"✅ Can access mouse 781471: {len(mouse_content)} records\")\n",
    "except Exception as e:\n",
    "    print(f\"❌ Cannot access mouse 781471 by cntn_id: {e}\")\n",
    "    \n",
    "    # Try alternative field name\n",
    "    try:\n",
    "        mouse_content = slims.fetch(\"Content\", equals(\"cntn_barCode\", \"781471\"))\n",
    "        print(f\"✅ Can access mouse 781471 by barcode: {len(mouse_content)} records\")\n",
    "    except Exception as e:\n",
    "        print(f\"❌ Cannot access mouse 781471 by barcode: {e}\")"
   ]
  },
  {
   "cell_type": "code",
   "execution_count": null,
   "id": "bbc9f167",
   "metadata": {},
   "outputs": [],
   "source": []
  }
 ],
 "metadata": {
  "kernelspec": {
   "display_name": "patchseq_metadata",
   "language": "python",
   "name": "python3"
  },
  "language_info": {
   "codemirror_mode": {
    "name": "ipython",
    "version": 3
   },
   "file_extension": ".py",
   "mimetype": "text/x-python",
   "name": "python",
   "nbconvert_exporter": "python",
   "pygments_lexer": "ipython3",
   "version": "3.12.11"
  }
 },
 "nbformat": 4,
 "nbformat_minor": 5
}
