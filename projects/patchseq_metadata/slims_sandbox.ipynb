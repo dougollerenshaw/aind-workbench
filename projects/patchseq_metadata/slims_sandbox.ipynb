{
 "cells": [
  {
   "cell_type": "code",
   "execution_count": 5,
   "id": "260097d8",
   "metadata": {},
   "outputs": [
    {
     "name": "stdout",
     "output_type": "stream",
     "text": [
      "Looking for .env at: /Users/doug.ollerenshaw/code/aind-workbench/.env\n",
      "File exists: True\n",
      "SLIMS_USERNAME: DougOllerenshaw\n"
     ]
    }
   ],
   "source": [
    "from aind_slims_api import SlimsClient\n",
    "from aind_slims_api.models import SlimsMouseContent\n",
    "\n",
    "from decouple import config, Config, RepositoryEnv\n",
    "import os\n",
    "from pathlib import Path\n",
    "\n",
    "# Load from root-level .env file - use getcwd() instead of __file__ for notebooks\n",
    "current_dir = Path.cwd()\n",
    "# Navigate up to find the repo root (where .env should be)\n",
    "env_path = current_dir.parent.parent / '.env'  # Adjust path as needed\n",
    "config = Config(RepositoryEnv(env_path))\n",
    "\n",
    "os.environ['SLIMS_USERNAME'] = config('SLIMS_USERNAME')\n",
    "os.environ['SLIMS_PASSWORD'] = config('SLIMS_PASSWORD') \n",
    "os.environ['SLIMS_URL'] = config('SLIMS_URL')\n",
    "\n",
    "# Verify the path and credentials are loaded\n",
    "print(f\"Looking for .env at: {env_path}\")\n",
    "print(f\"File exists: {env_path.exists()}\")\n",
    "print(\"SLIMS_USERNAME:\", os.getenv('SLIMS_USERNAME'))\n",
    "\n",
    "\n",
    "os.environ['SLIMS_USERNAME'] = config('SLIMS_USERNAME')\n",
    "os.environ['SLIMS_PASSWORD'] = config('SLIMS_PASSWORD') \n",
    "os.environ['SLIMS_URL'] = config('SLIMS_URL')"
   ]
  },
  {
   "cell_type": "code",
   "execution_count": 6,
   "id": "61eb085b",
   "metadata": {},
   "outputs": [
    {
     "ename": "AttributeError",
     "evalue": "'int' object has no attribute 'criterion'",
     "output_type": "error",
     "traceback": [
      "\u001b[31m---------------------------------------------------------------------------\u001b[39m",
      "\u001b[31mAttributeError\u001b[39m                            Traceback (most recent call last)",
      "\u001b[36mCell\u001b[39m\u001b[36m \u001b[39m\u001b[32mIn[6]\u001b[39m\u001b[32m, line 2\u001b[39m\n\u001b[32m      1\u001b[39m client = SlimsClient()\n\u001b[32m----> \u001b[39m\u001b[32m2\u001b[39m mouse = \u001b[43mclient\u001b[49m\u001b[43m.\u001b[49m\u001b[43mfetch_model\u001b[49m\u001b[43m(\u001b[49m\u001b[43mSlimsMouseContent\u001b[49m\u001b[43m,\u001b[49m\u001b[43m \u001b[49m\u001b[32;43m781471\u001b[39;49m\u001b[43m)\u001b[49m\n",
      "\u001b[36mFile \u001b[39m\u001b[32m/opt/homebrew/Caskroom/miniconda/base/envs/patchseq_metadata/lib/python3.12/site-packages/aind_slims_api/core.py:187\u001b[39m, in \u001b[36mSlimsClient.fetch_model\u001b[39m\u001b[34m(self, model, *args, **kwargs)\u001b[39m\n\u001b[32m    173\u001b[39m \u001b[38;5;28;01mdef\u001b[39;00m\u001b[38;5;250m \u001b[39m\u001b[34mfetch_model\u001b[39m(\n\u001b[32m    174\u001b[39m     \u001b[38;5;28mself\u001b[39m,\n\u001b[32m    175\u001b[39m     model: Type[SlimsBaseModelTypeVar],\n\u001b[32m    176\u001b[39m     *args: Criterion,\n\u001b[32m    177\u001b[39m     **kwargs,\n\u001b[32m    178\u001b[39m ) -> SlimsBaseModelTypeVar | \u001b[38;5;28;01mNone\u001b[39;00m:\n\u001b[32m    179\u001b[39m \u001b[38;5;250m    \u001b[39m\u001b[33;03m\"\"\"Fetch a single record from SLIMS and return it as a validated\u001b[39;00m\n\u001b[32m    180\u001b[39m \u001b[33;03m     SlimsBaseModel object.\u001b[39;00m\n\u001b[32m    181\u001b[39m \n\u001b[32m   (...)\u001b[39m\u001b[32m    185\u001b[39m \u001b[33;03m    - sorts records on created_on in descending order and returns the first\u001b[39;00m\n\u001b[32m    186\u001b[39m \u001b[33;03m    \"\"\"\u001b[39;00m\n\u001b[32m--> \u001b[39m\u001b[32m187\u001b[39m     records = \u001b[38;5;28;43mself\u001b[39;49m\u001b[43m.\u001b[49m\u001b[43mfetch_models\u001b[49m\u001b[43m(\u001b[49m\n\u001b[32m    188\u001b[39m \u001b[43m        \u001b[49m\u001b[43mmodel\u001b[49m\u001b[43m,\u001b[49m\n\u001b[32m    189\u001b[39m \u001b[43m        \u001b[49m\u001b[43m*\u001b[49m\u001b[43margs\u001b[49m\u001b[43m,\u001b[49m\n\u001b[32m    190\u001b[39m \u001b[43m        \u001b[49m\u001b[43msort\u001b[49m\u001b[43m=\u001b[49m\u001b[33;43m\"\u001b[39;49m\u001b[33;43m-created_on\u001b[39;49m\u001b[33;43m\"\u001b[39;49m\u001b[43m,\u001b[49m\n\u001b[32m    191\u001b[39m \u001b[43m        \u001b[49m\u001b[43mstart\u001b[49m\u001b[43m=\u001b[49m\u001b[32;43m0\u001b[39;49m\u001b[43m,\u001b[49m\u001b[43m  \u001b[49m\u001b[38;5;66;43;03m# slims rows appear to be 0-indexed\u001b[39;49;00m\n\u001b[32m    192\u001b[39m \u001b[43m        \u001b[49m\u001b[43mend\u001b[49m\u001b[43m=\u001b[49m\u001b[32;43m1\u001b[39;49m\u001b[43m,\u001b[49m\n\u001b[32m    193\u001b[39m \u001b[43m        \u001b[49m\u001b[43m*\u001b[49m\u001b[43m*\u001b[49m\u001b[43mkwargs\u001b[49m\u001b[43m,\u001b[49m\n\u001b[32m    194\u001b[39m \u001b[43m    \u001b[49m\u001b[43m)\u001b[49m\n\u001b[32m    195\u001b[39m     \u001b[38;5;28;01mif\u001b[39;00m \u001b[38;5;28mlen\u001b[39m(records) > \u001b[32m0\u001b[39m:\n\u001b[32m    196\u001b[39m         logger.debug(\u001b[33mf\u001b[39m\u001b[33m\"\u001b[39m\u001b[33mFound \u001b[39m\u001b[38;5;132;01m{\u001b[39;00m\u001b[38;5;28mlen\u001b[39m(records)\u001b[38;5;132;01m}\u001b[39;00m\u001b[33m records for \u001b[39m\u001b[38;5;132;01m{\u001b[39;00mmodel\u001b[38;5;132;01m}\u001b[39;00m\u001b[33m.\u001b[39m\u001b[33m\"\u001b[39m)\n",
      "\u001b[36mFile \u001b[39m\u001b[32m/opt/homebrew/Caskroom/miniconda/base/envs/patchseq_metadata/lib/python3.12/site-packages/aind_slims_api/core.py:155\u001b[39m, in \u001b[36mSlimsClient.fetch_models\u001b[39m\u001b[34m(self, model, sort, start, end, *args, **kwargs)\u001b[39m\n\u001b[32m    152\u001b[39m \u001b[38;5;28;01mif\u001b[39;00m \u001b[38;5;28misinstance\u001b[39m(sort, \u001b[38;5;28mstr\u001b[39m):\n\u001b[32m    153\u001b[39m     sort = [sort]\n\u001b[32m--> \u001b[39m\u001b[32m155\u001b[39m criteria, resolved_sort, start, end = \u001b[43mresolve_filter_args\u001b[49m\u001b[43m(\u001b[49m\n\u001b[32m    156\u001b[39m \u001b[43m    \u001b[49m\u001b[43mmodel\u001b[49m\u001b[43m,\u001b[49m\n\u001b[32m    157\u001b[39m \u001b[43m    \u001b[49m\u001b[43m*\u001b[49m\u001b[43margs\u001b[49m\u001b[43m,\u001b[49m\n\u001b[32m    158\u001b[39m \u001b[43m    \u001b[49m\u001b[43msort\u001b[49m\u001b[43m=\u001b[49m\u001b[43msort\u001b[49m\u001b[43m,\u001b[49m\n\u001b[32m    159\u001b[39m \u001b[43m    \u001b[49m\u001b[43mstart\u001b[49m\u001b[43m=\u001b[49m\u001b[43mstart\u001b[49m\u001b[43m,\u001b[49m\n\u001b[32m    160\u001b[39m \u001b[43m    \u001b[49m\u001b[43mend\u001b[49m\u001b[43m=\u001b[49m\u001b[43mend\u001b[49m\u001b[43m,\u001b[49m\n\u001b[32m    161\u001b[39m \u001b[43m    \u001b[49m\u001b[43m*\u001b[49m\u001b[43m*\u001b[49m\u001b[43mkwargs\u001b[49m\u001b[43m,\u001b[49m\n\u001b[32m    162\u001b[39m \u001b[43m\u001b[49m\u001b[43m)\u001b[49m\n\u001b[32m    163\u001b[39m response = \u001b[38;5;28mself\u001b[39m.fetch(\n\u001b[32m    164\u001b[39m     model._slims_table,\n\u001b[32m    165\u001b[39m     *criteria,\n\u001b[32m   (...)\u001b[39m\u001b[32m    169\u001b[39m     **resolved_kwargs,\n\u001b[32m    170\u001b[39m )\n\u001b[32m    171\u001b[39m \u001b[38;5;28;01mreturn\u001b[39;00m \u001b[38;5;28mself\u001b[39m._validate_models(model, response)\n",
      "\u001b[36mFile \u001b[39m\u001b[32m/opt/homebrew/Caskroom/miniconda/base/envs/patchseq_metadata/lib/python3.12/site-packages/aind_slims_api/filters.py:185\u001b[39m, in \u001b[36mresolve_filter_args\u001b[39m\u001b[34m(model, sort, start, end, *args, **kwargs)\u001b[39m\n\u001b[32m    183\u001b[39m resolved_criteria: \u001b[38;5;28mlist\u001b[39m[Criterion] = []\n\u001b[32m    184\u001b[39m \u001b[38;5;28;01mfor\u001b[39;00m criterion \u001b[38;5;129;01min\u001b[39;00m criteria:\n\u001b[32m--> \u001b[39m\u001b[32m185\u001b[39m     \u001b[43mvalidate_criteria\u001b[49m\u001b[43m(\u001b[49m\u001b[43mmodel\u001b[49m\u001b[43m,\u001b[49m\u001b[43m \u001b[49m\u001b[43mcriterion\u001b[49m\u001b[43m)\u001b[49m\n\u001b[32m    186\u001b[39m     resolved_criteria.append(resolve_criteria(model, criterion))\n\u001b[32m    187\u001b[39m resolved_sort = [resolve_model_alias(model, sort_key) \u001b[38;5;28;01mfor\u001b[39;00m sort_key \u001b[38;5;129;01min\u001b[39;00m sort]\n",
      "\u001b[36mFile \u001b[39m\u001b[32m/opt/homebrew/Caskroom/miniconda/base/envs/patchseq_metadata/lib/python3.12/site-packages/aind_slims_api/filters.py:127\u001b[39m, in \u001b[36mvalidate_criteria\u001b[39m\u001b[34m(model_type, criteria)\u001b[39m\n\u001b[32m    125\u001b[39m         validate_criteria(model_type, sub_criteria)\n\u001b[32m    126\u001b[39m \u001b[38;5;28;01melse\u001b[39;00m:  \u001b[38;5;66;03m# Expression\u001b[39;00m\n\u001b[32m--> \u001b[39m\u001b[32m127\u001b[39m     \u001b[38;5;28;01mif\u001b[39;00m \u001b[43mcriteria\u001b[49m\u001b[43m.\u001b[49m\u001b[43mcriterion\u001b[49m[\u001b[33m\"\u001b[39m\u001b[33mfieldName\u001b[39m\u001b[33m\"\u001b[39m] == \u001b[33m\"\u001b[39m\u001b[33misNaFilter\u001b[39m\u001b[33m\"\u001b[39m:\n\u001b[32m    128\u001b[39m         _validate_field_name(\n\u001b[32m    129\u001b[39m             model_type,\n\u001b[32m    130\u001b[39m             criteria.criterion[\u001b[33m\"\u001b[39m\u001b[33mvalue\u001b[39m\u001b[33m\"\u001b[39m],\n\u001b[32m    131\u001b[39m         )\n\u001b[32m    132\u001b[39m     \u001b[38;5;28;01melif\u001b[39;00m criteria.criterion[\u001b[33m\"\u001b[39m\u001b[33moperator\u001b[39m\u001b[33m\"\u001b[39m] \u001b[38;5;129;01min\u001b[39;00m [\u001b[33m\"\u001b[39m\u001b[33minSet\u001b[39m\u001b[33m\"\u001b[39m, \u001b[33m\"\u001b[39m\u001b[33mnotInSet\u001b[39m\u001b[33m\"\u001b[39m]:\n",
      "\u001b[31mAttributeError\u001b[39m: 'int' object has no attribute 'criterion'"
     ]
    }
   ],
   "source": [
    "client = SlimsClient()\n",
    "mouse = client.fetch_model(SlimsMouseContent, 781471)"
   ]
  },
  {
   "cell_type": "code",
   "execution_count": null,
   "id": "efef1c82",
   "metadata": {},
   "outputs": [
    {
     "name": "stdout",
     "output_type": "stream",
     "text": [
      "SLIMS_USERNAME: None\n",
      "SLIMS_PASSWORD: None\n",
      "SLIMS_URL: None\n"
     ]
    }
   ],
   "source": [
    "import os\n",
    "\n",
    "print(\"SLIMS_USERNAME:\", os.getenv('SLIMS_USERNAME'))\n",
    "print(\"SLIMS_PASSWORD:\", \"***\" if os.getenv('SLIMS_PASSWORD') else None)\n",
    "print(\"SLIMS_URL:\", os.getenv('SLIMS_URL'))"
   ]
  },
  {
   "cell_type": "code",
   "execution_count": 3,
   "id": "a27410dd",
   "metadata": {},
   "outputs": [
    {
     "name": "stdout",
     "output_type": "stream",
     "text": [
      "SLIMS_USERNAME: DougOllerenshaw\n",
      "SLIMS_PASSWORD: ***\n",
      "SLIMS_URL: https://aind.us.slims.agilent.com/slims/Slims.html#Users\n"
     ]
    }
   ],
   "source": [
    "\n",
    "import os\n",
    "\n",
    "# Set temporarily for this session\n",
    "os.environ['SLIMS_USERNAME'] = 'DougOllerenshaw'\n",
    "os.environ['SLIMS_PASSWORD'] = 'dougSLIMS#3' \n",
    "os.environ['SLIMS_URL'] = 'https://aind.us.slims.agilent.com/slims/Slims.html#Users'\n",
    "\n",
    "# Verify they're set\n",
    "print(\"SLIMS_USERNAME:\", os.getenv('SLIMS_USERNAME'))\n",
    "print(\"SLIMS_PASSWORD:\", \"***\" if os.getenv('SLIMS_PASSWORD') else None)\n",
    "print(\"SLIMS_URL:\", os.getenv('SLIMS_URL'))"
   ]
  },
  {
   "cell_type": "code",
   "execution_count": null,
   "id": "cd08569d",
   "metadata": {},
   "outputs": [],
   "source": []
  }
 ],
 "metadata": {
  "kernelspec": {
   "display_name": "patchseq_metadata",
   "language": "python",
   "name": "python3"
  },
  "language_info": {
   "codemirror_mode": {
    "name": "ipython",
    "version": 3
   },
   "file_extension": ".py",
   "mimetype": "text/x-python",
   "name": "python",
   "nbconvert_exporter": "python",
   "pygments_lexer": "ipython3",
   "version": "3.12.11"
  }
 },
 "nbformat": 4,
 "nbformat_minor": 5
}
